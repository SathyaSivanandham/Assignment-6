{
 "cells": [
  {
   "cell_type": "markdown",
   "id": "cf9dc201",
   "metadata": {},
   "source": [
    "# Create a JSON file (employee.json) containing employee information of minimum 5 employees. Each employee information consists of Name, DOB, Height, City, State. Write a python program that reads this information from the JSON file and saves the information into a list of objects of Employee class. Finally print the list of the Employee objects."
   ]
  },
  {
   "cell_type": "code",
   "execution_count": 10,
   "id": "f969bb9f",
   "metadata": {},
   "outputs": [
    {
     "name": "stdout",
     "output_type": "stream",
     "text": [
      "{'emp_details': [{'Emp_name': 'Sathya', 'DOB': '08/12/1989', 'Height': '5.3', 'City': 'Thanjavur', 'State': 'TamilNadu'}, {'Emp_name': 'Saranya', 'DOB': '06/10/1987', 'Height': '5.1', 'City': 'Ariyalur', 'State': 'TamilNadu'}, {'Emp_name': 'Vengada', 'DOB': '01/11/1994', 'Height': '5.5', 'City': 'Ambur', 'State': 'TamilNadu'}, {'Emp_name': 'Surabee', 'DOB': '15/10/1995', 'Height': '5.0', 'City': 'Trichy', 'State': 'TamilNadu'}, {'Emp_name': 'Kalai', 'DOB': '08/12/2000', 'Height': '5.2', 'City': 'Thanjavur', 'State': 'TamilNadu'}]}\n",
      "Json File generated\n",
      " \n",
      "Datatype of variable:  <class 'dict'>\n",
      "emp_details [{'Emp_name': 'Sathya', 'DOB': '08/12/1989', 'Height': '5.3', 'City': 'Thanjavur', 'State': 'TamilNadu'}, {'Emp_name': 'Saranya', 'DOB': '06/10/1987', 'Height': '5.1', 'City': 'Ariyalur', 'State': 'TamilNadu'}, {'Emp_name': 'Vengada', 'DOB': '01/11/1994', 'Height': '5.5', 'City': 'Ambur', 'State': 'TamilNadu'}, {'Emp_name': 'Surabee', 'DOB': '15/10/1995', 'Height': '5.0', 'City': 'Trichy', 'State': 'TamilNadu'}, {'Emp_name': 'Kalai', 'DOB': '08/12/2000', 'Height': '5.2', 'City': 'Thanjavur', 'State': 'TamilNadu'}]\n"
     ]
    }
   ],
   "source": [
    "employee =  {'emp_details': [{\n",
    "               \"Emp_name\": \"Sathya\",\n",
    "               \"DOB\": \"08/12/1989\",\n",
    "               \"Height\": \"5.3\",\n",
    "               \"City\": \"Thanjavur\",\n",
    "               \"State\": \"TamilNadu\"\n",
    "          },\n",
    "          {\n",
    "               \"Emp_name\": \"Saranya\",\n",
    "               \"DOB\": \"06/10/1987\",\n",
    "               \"Height\": \"5.1\",\n",
    "               \"City\": \"Ariyalur\",\n",
    "               \"State\": \"TamilNadu\"\n",
    "          },\n",
    "          {\n",
    "               \"Emp_name\": \"Vengada\",\n",
    "               \"DOB\": \"01/11/1994\",\n",
    "               \"Height\": \"5.5\",\n",
    "               \"City\": \"Ambur\",\n",
    "               \"State\": \"TamilNadu\"\n",
    "          },\n",
    " {\n",
    "               \"Emp_name\": \"Surabee\",\n",
    "               \"DOB\": \"15/10/1995\",\n",
    "               \"Height\": \"5.0\",\n",
    "               \"City\": \"Trichy\",\n",
    "               \"State\": \"TamilNadu\"\n",
    "          },\n",
    "{\n",
    "               \"Emp_name\": \"Kalai\",\n",
    "               \"DOB\": \"08/12/2000\",\n",
    "               \"Height\": \"5.2\",\n",
    "               \"City\": \"Thanjavur\",\n",
    "               \"State\": \"TamilNadu\"\n",
    "          }]}\n",
    "with open(\"employee.json\",\"w\") as f:\n",
    "    json.dump(employee,f,indent=4)\n",
    "    print(employee)\n",
    "    print(\"Json File generated\")\n",
    "    print(\" \")\n",
    "\n",
    "    \n",
    "with open(\"employee.json\",\"r\") as file:\n",
    "    jsonData = json.load(file)\n",
    "print(\"Datatype of variable: \", type(jsonData))\n",
    "for i in jsonData:\n",
    "    print(i, jsonData[i])"
   ]
  },
  {
   "cell_type": "code",
   "execution_count": null,
   "id": "40d4129e",
   "metadata": {},
   "outputs": [],
   "source": []
  }
 ],
 "metadata": {
  "kernelspec": {
   "display_name": "Python 3 (ipykernel)",
   "language": "python",
   "name": "python3"
  },
  "language_info": {
   "codemirror_mode": {
    "name": "ipython",
    "version": 3
   },
   "file_extension": ".py",
   "mimetype": "text/x-python",
   "name": "python",
   "nbconvert_exporter": "python",
   "pygments_lexer": "ipython3",
   "version": "3.11.0"
  }
 },
 "nbformat": 4,
 "nbformat_minor": 5
}
