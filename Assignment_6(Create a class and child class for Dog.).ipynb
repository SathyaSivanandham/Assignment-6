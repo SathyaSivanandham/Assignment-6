{
 "cells": [
  {
   "cell_type": "markdown",
   "id": "85d14b30",
   "metadata": {},
   "source": [
    "# Assignment 2:\n",
    "    \n",
    "    Create a class named ‘Dog’. It should have a constructor which accepts its name, age and coat color. You must perform the following operations:\n",
    "    \n",
    "a. It should have a function ‘description()’ which prints the name and age of the dog.\n",
    "b. It should have a function ‘get_info()’ which prints the coat color of the dog.\n",
    "c. Create child classes ‘JackRussellTerrier’ and ‘Bulldog’ which is inherited from the class ‘Dog’. It should have at least two methods of its own.\n",
    "d. Create objects and implement the above functionalities."
   ]
  },
  {
   "cell_type": "code",
   "execution_count": 1,
   "id": "9b5be0fc",
   "metadata": {},
   "outputs": [
    {
     "name": "stdout",
     "output_type": "stream",
     "text": [
      "Description:\n",
      "The name of the dog is :  Labour\n",
      "The age of the dog is :  4\n",
      " \n",
      "Get_Info:\n",
      "The color of the dog is :  Black\n",
      " \n",
      "Description of JackRussellTerrier:\n",
      "The name of the dog is :  JackRussellTerrier\n",
      "The age of the dog is :  4\n",
      "The color of the dog is :  White\n",
      "The gender of the dog is :  Male\n",
      "The breed of the dog is :  Frindely\n",
      " \n",
      "Description of BullDog:\n",
      "The name of the dog is :  BullDog\n",
      "The age of the dog is :  3\n",
      "The color of the dog is :  Brown\n",
      "The breed of the dog is :  Mastiff\n",
      "The size of the dog is :  Medium\n"
     ]
    }
   ],
   "source": [
    "class Dog:\n",
    "    def __init__(self, name, age, coat_color):\n",
    "        self.name=name\n",
    "        self.age=age\n",
    "        self.coat_color=coat_color\n",
    "        \n",
    "    def description(self):\n",
    "        print(\"The name of the dog is : \", self.name)\n",
    "        print(\"The age of the dog is : \", self.age)\n",
    "        pass\n",
    "    \n",
    "    def get_info(self):\n",
    "        print(\"The color of the dog is : \", self.coat_color)\n",
    "        pass\n",
    "    \n",
    "class JackRussellTerrier(Dog):\n",
    "    \n",
    "    def __init__(self, name, age, coat_color, gender, kind):\n",
    "        super().__init__(name, age, coat_color)\n",
    "        self.gender=gender\n",
    "        self.breed=kind\n",
    "        \n",
    "    def des1(self):\n",
    "        print(\"The name of the dog is : \", self.name)\n",
    "        print(\"The age of the dog is : \", self.age)\n",
    "        print(\"The color of the dog is : \", self.coat_color)\n",
    "        print(\"The gender of the dog is : \", self.gender)\n",
    "        print(\"The breed of the dog is : \", self.breed)\n",
    "        pass\n",
    "    \n",
    "class BullDog(Dog):\n",
    "    \n",
    "    def __init__(self, name, age, coat_color, breed, size):\n",
    "        super().__init__(name, age, coat_color)\n",
    "        self.breed=breed\n",
    "        self.size=size\n",
    "        \n",
    "    def des2(self):\n",
    "        print(\"The name of the dog is : \", self.name)\n",
    "        print(\"The age of the dog is : \", self.age)\n",
    "        print(\"The color of the dog is : \", self.coat_color)\n",
    "        print(\"The breed of the dog is : \", self.breed)\n",
    "        print(\"The size of the dog is : \", self.size)\n",
    "        pass\n",
    "    \n",
    "D = Dog(\"Labour\", 4, \"Black\")\n",
    "print(\"Description:\")\n",
    "D.description()\n",
    "print(\" \")\n",
    "\n",
    "print(\"Get_Info:\")\n",
    "D.get_info()\n",
    "print(\" \")\n",
    "\n",
    "D1 = JackRussellTerrier(\"JackRussellTerrier\", 4, \"White\", \"Male\", \"Frindely\")\n",
    "print(\"Description of JackRussellTerrier:\")\n",
    "D1.des1()\n",
    "print(\" \")\n",
    "\n",
    "D2 = BullDog(\"BullDog\", 3, \"Brown\", \"Mastiff\", \"Medium\")\n",
    "print(\"Description of BullDog:\")\n",
    "D2.des2()"
   ]
  },
  {
   "cell_type": "code",
   "execution_count": null,
   "id": "5cc54464",
   "metadata": {},
   "outputs": [],
   "source": []
  }
 ],
 "metadata": {
  "kernelspec": {
   "display_name": "Python 3 (ipykernel)",
   "language": "python",
   "name": "python3"
  },
  "language_info": {
   "codemirror_mode": {
    "name": "ipython",
    "version": 3
   },
   "file_extension": ".py",
   "mimetype": "text/x-python",
   "name": "python",
   "nbconvert_exporter": "python",
   "pygments_lexer": "ipython3",
   "version": "3.11.0"
  }
 },
 "nbformat": 4,
 "nbformat_minor": 5
}
