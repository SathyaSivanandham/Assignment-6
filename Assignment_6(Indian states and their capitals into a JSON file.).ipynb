{
 "cells": [
  {
   "cell_type": "markdown",
   "id": "f97ecb8e",
   "metadata": {},
   "source": [
    "# Create a dictionary of any 7 Indian states and their capitals. Write this into a JSON file."
   ]
  },
  {
   "cell_type": "code",
   "execution_count": 1,
   "id": "b9ab45a4",
   "metadata": {},
   "outputs": [
    {
     "name": "stdout",
     "output_type": "stream",
     "text": [
      "{'Tamil Nadu': 'Chennai', 'Karnataka': 'Bengaluru', 'Kerala': 'Thiruvananthapuram', 'Madhya Pradesh': 'Bhopal', 'Maharashtra': 'Mumbai'}\n",
      "Json Completed\n"
     ]
    }
   ],
   "source": [
    "import json\n",
    "states_capitals = {\"Tamil Nadu\":\"Chennai\",\"Karnataka\":\"Bengaluru\",\"Kerala\":\"Thiruvananthapuram\",\"Madhya Pradesh\":\"Bhopal\",\"Maharashtra\":\"Mumbai\"}\n",
    "with open(\"states_capitals.json\",\"w\") as f:\n",
    "    json.dump(states_capitals,f)\n",
    "    print(states_capitals)\n",
    "    print(\"Json Completed\")"
   ]
  },
  {
   "cell_type": "code",
   "execution_count": null,
   "id": "7017e2e8",
   "metadata": {},
   "outputs": [],
   "source": []
  }
 ],
 "metadata": {
  "kernelspec": {
   "display_name": "Python 3 (ipykernel)",
   "language": "python",
   "name": "python3"
  },
  "language_info": {
   "codemirror_mode": {
    "name": "ipython",
    "version": 3
   },
   "file_extension": ".py",
   "mimetype": "text/x-python",
   "name": "python",
   "nbconvert_exporter": "python",
   "pygments_lexer": "ipython3",
   "version": "3.11.0"
  }
 },
 "nbformat": 4,
 "nbformat_minor": 5
}
